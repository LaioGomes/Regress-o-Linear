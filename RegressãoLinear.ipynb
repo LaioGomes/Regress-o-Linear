{
  "nbformat": 4,
  "nbformat_minor": 0,
  "metadata": {
    "colab": {
      "name": "RegressãoLinear.ipynb",
      "provenance": [],
      "collapsed_sections": [],
      "authorship_tag": "ABX9TyNVEDAcCmVt4yTqn/s1eWJJ",
      "include_colab_link": true
    },
    "kernelspec": {
      "name": "python3",
      "display_name": "Python 3"
    },
    "language_info": {
      "name": "python"
    }
  },
  "cells": [
    {
      "cell_type": "markdown",
      "metadata": {
        "id": "view-in-github",
        "colab_type": "text"
      },
      "source": [
        "<a href=\"https://colab.research.google.com/github/LaioGomes/Regressao-Linear/blob/main/Regress%C3%A3oLinear.ipynb\" target=\"_parent\"><img src=\"https://colab.research.google.com/assets/colab-badge.svg\" alt=\"Open In Colab\"/></a>"
      ]
    },
    {
      "cell_type": "code",
      "execution_count": 3,
      "metadata": {
        "id": "kKn55_LdzqBi"
      },
      "outputs": [],
      "source": [
        "import pandas as pd\n",
        "import numpy as np\n",
        "import matplotlib.pyplot as plt\n",
        "import seaborn as sns"
      ]
    },
    {
      "cell_type": "code",
      "source": [
        "baseDados = pd.read_excel('BaseDados_RegressaoLinear.xlsx')\n",
        "baseDados.head()"
      ],
      "metadata": {
        "colab": {
          "base_uri": "https://localhost:8080/",
          "height": 206
        },
        "id": "qlPeddIEztf-",
        "outputId": "f6014bb6-15fb-4637-eac3-722c577a6972"
      },
      "execution_count": 4,
      "outputs": [
        {
          "output_type": "execute_result",
          "data": {
            "text/plain": [
              "       Salario  Limite Emprestimo\n",
              "0  1250.219130        2900.124323\n",
              "1  1262.721321        2929.125566\n",
              "2  1275.348535        2958.416822\n",
              "3  1288.102020        2988.000990\n",
              "4  1300.983040        3017.881000"
            ],
            "text/html": [
              "\n",
              "  <div id=\"df-4dc895ff-0ce9-4818-aede-d926446ce45f\">\n",
              "    <div class=\"colab-df-container\">\n",
              "      <div>\n",
              "<style scoped>\n",
              "    .dataframe tbody tr th:only-of-type {\n",
              "        vertical-align: middle;\n",
              "    }\n",
              "\n",
              "    .dataframe tbody tr th {\n",
              "        vertical-align: top;\n",
              "    }\n",
              "\n",
              "    .dataframe thead th {\n",
              "        text-align: right;\n",
              "    }\n",
              "</style>\n",
              "<table border=\"1\" class=\"dataframe\">\n",
              "  <thead>\n",
              "    <tr style=\"text-align: right;\">\n",
              "      <th></th>\n",
              "      <th>Salario</th>\n",
              "      <th>Limite Emprestimo</th>\n",
              "    </tr>\n",
              "  </thead>\n",
              "  <tbody>\n",
              "    <tr>\n",
              "      <th>0</th>\n",
              "      <td>1250.219130</td>\n",
              "      <td>2900.124323</td>\n",
              "    </tr>\n",
              "    <tr>\n",
              "      <th>1</th>\n",
              "      <td>1262.721321</td>\n",
              "      <td>2929.125566</td>\n",
              "    </tr>\n",
              "    <tr>\n",
              "      <th>2</th>\n",
              "      <td>1275.348535</td>\n",
              "      <td>2958.416822</td>\n",
              "    </tr>\n",
              "    <tr>\n",
              "      <th>3</th>\n",
              "      <td>1288.102020</td>\n",
              "      <td>2988.000990</td>\n",
              "    </tr>\n",
              "    <tr>\n",
              "      <th>4</th>\n",
              "      <td>1300.983040</td>\n",
              "      <td>3017.881000</td>\n",
              "    </tr>\n",
              "  </tbody>\n",
              "</table>\n",
              "</div>\n",
              "      <button class=\"colab-df-convert\" onclick=\"convertToInteractive('df-4dc895ff-0ce9-4818-aede-d926446ce45f')\"\n",
              "              title=\"Convert this dataframe to an interactive table.\"\n",
              "              style=\"display:none;\">\n",
              "        \n",
              "  <svg xmlns=\"http://www.w3.org/2000/svg\" height=\"24px\"viewBox=\"0 0 24 24\"\n",
              "       width=\"24px\">\n",
              "    <path d=\"M0 0h24v24H0V0z\" fill=\"none\"/>\n",
              "    <path d=\"M18.56 5.44l.94 2.06.94-2.06 2.06-.94-2.06-.94-.94-2.06-.94 2.06-2.06.94zm-11 1L8.5 8.5l.94-2.06 2.06-.94-2.06-.94L8.5 2.5l-.94 2.06-2.06.94zm10 10l.94 2.06.94-2.06 2.06-.94-2.06-.94-.94-2.06-.94 2.06-2.06.94z\"/><path d=\"M17.41 7.96l-1.37-1.37c-.4-.4-.92-.59-1.43-.59-.52 0-1.04.2-1.43.59L10.3 9.45l-7.72 7.72c-.78.78-.78 2.05 0 2.83L4 21.41c.39.39.9.59 1.41.59.51 0 1.02-.2 1.41-.59l7.78-7.78 2.81-2.81c.8-.78.8-2.07 0-2.86zM5.41 20L4 18.59l7.72-7.72 1.47 1.35L5.41 20z\"/>\n",
              "  </svg>\n",
              "      </button>\n",
              "      \n",
              "  <style>\n",
              "    .colab-df-container {\n",
              "      display:flex;\n",
              "      flex-wrap:wrap;\n",
              "      gap: 12px;\n",
              "    }\n",
              "\n",
              "    .colab-df-convert {\n",
              "      background-color: #E8F0FE;\n",
              "      border: none;\n",
              "      border-radius: 50%;\n",
              "      cursor: pointer;\n",
              "      display: none;\n",
              "      fill: #1967D2;\n",
              "      height: 32px;\n",
              "      padding: 0 0 0 0;\n",
              "      width: 32px;\n",
              "    }\n",
              "\n",
              "    .colab-df-convert:hover {\n",
              "      background-color: #E2EBFA;\n",
              "      box-shadow: 0px 1px 2px rgba(60, 64, 67, 0.3), 0px 1px 3px 1px rgba(60, 64, 67, 0.15);\n",
              "      fill: #174EA6;\n",
              "    }\n",
              "\n",
              "    [theme=dark] .colab-df-convert {\n",
              "      background-color: #3B4455;\n",
              "      fill: #D2E3FC;\n",
              "    }\n",
              "\n",
              "    [theme=dark] .colab-df-convert:hover {\n",
              "      background-color: #434B5C;\n",
              "      box-shadow: 0px 1px 3px 1px rgba(0, 0, 0, 0.15);\n",
              "      filter: drop-shadow(0px 1px 2px rgba(0, 0, 0, 0.3));\n",
              "      fill: #FFFFFF;\n",
              "    }\n",
              "  </style>\n",
              "\n",
              "      <script>\n",
              "        const buttonEl =\n",
              "          document.querySelector('#df-4dc895ff-0ce9-4818-aede-d926446ce45f button.colab-df-convert');\n",
              "        buttonEl.style.display =\n",
              "          google.colab.kernel.accessAllowed ? 'block' : 'none';\n",
              "\n",
              "        async function convertToInteractive(key) {\n",
              "          const element = document.querySelector('#df-4dc895ff-0ce9-4818-aede-d926446ce45f');\n",
              "          const dataTable =\n",
              "            await google.colab.kernel.invokeFunction('convertToInteractive',\n",
              "                                                     [key], {});\n",
              "          if (!dataTable) return;\n",
              "\n",
              "          const docLinkHtml = 'Like what you see? Visit the ' +\n",
              "            '<a target=\"_blank\" href=https://colab.research.google.com/notebooks/data_table.ipynb>data table notebook</a>'\n",
              "            + ' to learn more about interactive tables.';\n",
              "          element.innerHTML = '';\n",
              "          dataTable['output_type'] = 'display_data';\n",
              "          await google.colab.output.renderOutput(dataTable, element);\n",
              "          const docLink = document.createElement('div');\n",
              "          docLink.innerHTML = docLinkHtml;\n",
              "          element.appendChild(docLink);\n",
              "        }\n",
              "      </script>\n",
              "    </div>\n",
              "  </div>\n",
              "  "
            ]
          },
          "metadata": {},
          "execution_count": 4
        }
      ]
    },
    {
      "cell_type": "code",
      "source": [
        "baseDados.columns"
      ],
      "metadata": {
        "colab": {
          "base_uri": "https://localhost:8080/"
        },
        "id": "pPxWKJw31CKV",
        "outputId": "9d84c29d-c6e4-4e3f-9a30-202346a5c048"
      },
      "execution_count": 5,
      "outputs": [
        {
          "output_type": "execute_result",
          "data": {
            "text/plain": [
              "Index(['Salario', 'Limite Emprestimo'], dtype='object')"
            ]
          },
          "metadata": {},
          "execution_count": 5
        }
      ]
    },
    {
      "cell_type": "code",
      "source": [
        "baseDados.info()"
      ],
      "metadata": {
        "colab": {
          "base_uri": "https://localhost:8080/"
        },
        "id": "ehWF4SRM1OVm",
        "outputId": "c1e673ed-aa53-42db-e08a-582b2feb958e"
      },
      "execution_count": 6,
      "outputs": [
        {
          "output_type": "stream",
          "name": "stdout",
          "text": [
            "<class 'pandas.core.frame.DataFrame'>\n",
            "RangeIndex: 150 entries, 0 to 149\n",
            "Data columns (total 2 columns):\n",
            " #   Column             Non-Null Count  Dtype  \n",
            "---  ------             --------------  -----  \n",
            " 0   Salario            150 non-null    float64\n",
            " 1   Limite Emprestimo  150 non-null    float64\n",
            "dtypes: float64(2)\n",
            "memory usage: 2.5 KB\n"
          ]
        }
      ]
    },
    {
      "cell_type": "code",
      "source": [
        "baseDados.describe()"
      ],
      "metadata": {
        "colab": {
          "base_uri": "https://localhost:8080/",
          "height": 300
        },
        "id": "ZQ3Wj6oF1PtQ",
        "outputId": "cb76c026-c65a-4404-91a0-422dca93d444"
      },
      "execution_count": 7,
      "outputs": [
        {
          "output_type": "execute_result",
          "data": {
            "text/plain": [
              "           Salario  Limite Emprestimo\n",
              "count   150.000000         150.000000\n",
              "mean   2100.530253        4853.023496\n",
              "std     656.636604        1503.079403\n",
              "min    1250.219130        2900.124323\n",
              "25%    1499.185073        3434.630087\n",
              "50%    1908.314282        4426.702913\n",
              "75%    2743.940367        6365.098731\n",
              "max    3400.837850        7500.234234"
            ],
            "text/html": [
              "\n",
              "  <div id=\"df-746226b4-2e6b-4212-bae1-0343ad56c802\">\n",
              "    <div class=\"colab-df-container\">\n",
              "      <div>\n",
              "<style scoped>\n",
              "    .dataframe tbody tr th:only-of-type {\n",
              "        vertical-align: middle;\n",
              "    }\n",
              "\n",
              "    .dataframe tbody tr th {\n",
              "        vertical-align: top;\n",
              "    }\n",
              "\n",
              "    .dataframe thead th {\n",
              "        text-align: right;\n",
              "    }\n",
              "</style>\n",
              "<table border=\"1\" class=\"dataframe\">\n",
              "  <thead>\n",
              "    <tr style=\"text-align: right;\">\n",
              "      <th></th>\n",
              "      <th>Salario</th>\n",
              "      <th>Limite Emprestimo</th>\n",
              "    </tr>\n",
              "  </thead>\n",
              "  <tbody>\n",
              "    <tr>\n",
              "      <th>count</th>\n",
              "      <td>150.000000</td>\n",
              "      <td>150.000000</td>\n",
              "    </tr>\n",
              "    <tr>\n",
              "      <th>mean</th>\n",
              "      <td>2100.530253</td>\n",
              "      <td>4853.023496</td>\n",
              "    </tr>\n",
              "    <tr>\n",
              "      <th>std</th>\n",
              "      <td>656.636604</td>\n",
              "      <td>1503.079403</td>\n",
              "    </tr>\n",
              "    <tr>\n",
              "      <th>min</th>\n",
              "      <td>1250.219130</td>\n",
              "      <td>2900.124323</td>\n",
              "    </tr>\n",
              "    <tr>\n",
              "      <th>25%</th>\n",
              "      <td>1499.185073</td>\n",
              "      <td>3434.630087</td>\n",
              "    </tr>\n",
              "    <tr>\n",
              "      <th>50%</th>\n",
              "      <td>1908.314282</td>\n",
              "      <td>4426.702913</td>\n",
              "    </tr>\n",
              "    <tr>\n",
              "      <th>75%</th>\n",
              "      <td>2743.940367</td>\n",
              "      <td>6365.098731</td>\n",
              "    </tr>\n",
              "    <tr>\n",
              "      <th>max</th>\n",
              "      <td>3400.837850</td>\n",
              "      <td>7500.234234</td>\n",
              "    </tr>\n",
              "  </tbody>\n",
              "</table>\n",
              "</div>\n",
              "      <button class=\"colab-df-convert\" onclick=\"convertToInteractive('df-746226b4-2e6b-4212-bae1-0343ad56c802')\"\n",
              "              title=\"Convert this dataframe to an interactive table.\"\n",
              "              style=\"display:none;\">\n",
              "        \n",
              "  <svg xmlns=\"http://www.w3.org/2000/svg\" height=\"24px\"viewBox=\"0 0 24 24\"\n",
              "       width=\"24px\">\n",
              "    <path d=\"M0 0h24v24H0V0z\" fill=\"none\"/>\n",
              "    <path d=\"M18.56 5.44l.94 2.06.94-2.06 2.06-.94-2.06-.94-.94-2.06-.94 2.06-2.06.94zm-11 1L8.5 8.5l.94-2.06 2.06-.94-2.06-.94L8.5 2.5l-.94 2.06-2.06.94zm10 10l.94 2.06.94-2.06 2.06-.94-2.06-.94-.94-2.06-.94 2.06-2.06.94z\"/><path d=\"M17.41 7.96l-1.37-1.37c-.4-.4-.92-.59-1.43-.59-.52 0-1.04.2-1.43.59L10.3 9.45l-7.72 7.72c-.78.78-.78 2.05 0 2.83L4 21.41c.39.39.9.59 1.41.59.51 0 1.02-.2 1.41-.59l7.78-7.78 2.81-2.81c.8-.78.8-2.07 0-2.86zM5.41 20L4 18.59l7.72-7.72 1.47 1.35L5.41 20z\"/>\n",
              "  </svg>\n",
              "      </button>\n",
              "      \n",
              "  <style>\n",
              "    .colab-df-container {\n",
              "      display:flex;\n",
              "      flex-wrap:wrap;\n",
              "      gap: 12px;\n",
              "    }\n",
              "\n",
              "    .colab-df-convert {\n",
              "      background-color: #E8F0FE;\n",
              "      border: none;\n",
              "      border-radius: 50%;\n",
              "      cursor: pointer;\n",
              "      display: none;\n",
              "      fill: #1967D2;\n",
              "      height: 32px;\n",
              "      padding: 0 0 0 0;\n",
              "      width: 32px;\n",
              "    }\n",
              "\n",
              "    .colab-df-convert:hover {\n",
              "      background-color: #E2EBFA;\n",
              "      box-shadow: 0px 1px 2px rgba(60, 64, 67, 0.3), 0px 1px 3px 1px rgba(60, 64, 67, 0.15);\n",
              "      fill: #174EA6;\n",
              "    }\n",
              "\n",
              "    [theme=dark] .colab-df-convert {\n",
              "      background-color: #3B4455;\n",
              "      fill: #D2E3FC;\n",
              "    }\n",
              "\n",
              "    [theme=dark] .colab-df-convert:hover {\n",
              "      background-color: #434B5C;\n",
              "      box-shadow: 0px 1px 3px 1px rgba(0, 0, 0, 0.15);\n",
              "      filter: drop-shadow(0px 1px 2px rgba(0, 0, 0, 0.3));\n",
              "      fill: #FFFFFF;\n",
              "    }\n",
              "  </style>\n",
              "\n",
              "      <script>\n",
              "        const buttonEl =\n",
              "          document.querySelector('#df-746226b4-2e6b-4212-bae1-0343ad56c802 button.colab-df-convert');\n",
              "        buttonEl.style.display =\n",
              "          google.colab.kernel.accessAllowed ? 'block' : 'none';\n",
              "\n",
              "        async function convertToInteractive(key) {\n",
              "          const element = document.querySelector('#df-746226b4-2e6b-4212-bae1-0343ad56c802');\n",
              "          const dataTable =\n",
              "            await google.colab.kernel.invokeFunction('convertToInteractive',\n",
              "                                                     [key], {});\n",
              "          if (!dataTable) return;\n",
              "\n",
              "          const docLinkHtml = 'Like what you see? Visit the ' +\n",
              "            '<a target=\"_blank\" href=https://colab.research.google.com/notebooks/data_table.ipynb>data table notebook</a>'\n",
              "            + ' to learn more about interactive tables.';\n",
              "          element.innerHTML = '';\n",
              "          dataTable['output_type'] = 'display_data';\n",
              "          await google.colab.output.renderOutput(dataTable, element);\n",
              "          const docLink = document.createElement('div');\n",
              "          docLink.innerHTML = docLinkHtml;\n",
              "          element.appendChild(docLink);\n",
              "        }\n",
              "      </script>\n",
              "    </div>\n",
              "  </div>\n",
              "  "
            ]
          },
          "metadata": {},
          "execution_count": 7
        }
      ]
    },
    {
      "cell_type": "code",
      "source": [
        "eixoX = baseDados.iloc[:,0].values\n",
        "eixoY = baseDados.iloc[:,1].values"
      ],
      "metadata": {
        "id": "mJpfLx1r1YeD"
      },
      "execution_count": 8,
      "outputs": []
    },
    {
      "cell_type": "code",
      "source": [
        "eixoX"
      ],
      "metadata": {
        "colab": {
          "base_uri": "https://localhost:8080/"
        },
        "id": "MrJgFL4a1o2k",
        "outputId": "892aadd9-423a-4803-85b1-b2314f00e476"
      },
      "execution_count": 9,
      "outputs": [
        {
          "output_type": "execute_result",
          "data": {
            "text/plain": [
              "array([1250.21913   , 1262.7213213 , 1275.34853451, 1288.10201986,\n",
              "       1300.98304006, 1313.99287046, 1327.13279916, 1340.40412715,\n",
              "       1353.80816843, 1367.34625011, 1381.01971261, 1394.82990974,\n",
              "       1408.77820883, 1422.86599092, 1437.09465083, 1451.46559734,\n",
              "       1465.98025331, 1480.64005585, 1495.4464564 , 1510.40092097,\n",
              "       1525.50493018, 1540.75997948, 1556.16757927, 1571.72925507,\n",
              "       1587.44654762, 1603.32101309, 1619.35422323, 1635.54776546,\n",
              "       1651.90324311, 1668.42227554, 1685.1064983 , 1701.95756328,\n",
              "       1718.97713891, 1736.1669103 , 1753.52857941, 1771.0638652 ,\n",
              "       1788.77450385, 1806.66224889, 1824.72887138, 1842.97616009,\n",
              "       1861.4059217 , 1880.01998091, 1898.82018072, 1917.80838253,\n",
              "       1936.98646635, 1956.35633102, 1975.91989433, 1995.67909327,\n",
              "       2015.6358842 , 2035.79224305, 2056.15016548, 2076.71166713,\n",
              "       2097.4787838 , 2118.45357164, 2139.63810736, 2161.03448843,\n",
              "       2182.64483331, 2204.47128165, 2226.51599446, 2248.78115441,\n",
              "       2271.26896595, 2293.98165561, 2316.92147217, 2340.09068689,\n",
              "       2363.49159376, 2387.1265097 , 2410.99777479, 2435.10775254,\n",
              "       2459.45883007, 2484.05341837, 2508.89395255, 2533.98289208,\n",
              "       2559.322721  , 2584.91594821, 2610.76510769, 2636.87275877,\n",
              "       2663.24148635, 2689.87390122, 2716.77264023, 2743.94036663,\n",
              "       2771.3797703 , 2799.093568  , 2827.08450368, 2855.35534872,\n",
              "       2883.90890221, 2912.74799123, 2941.87547114, 2971.29422585,\n",
              "       3001.00716811, 3031.01723979, 3061.32741219, 3091.94068631,\n",
              "       3122.86009317, 3154.08869411, 3185.62958105, 3217.48587686,\n",
              "       3249.66073563, 3282.15734298, 3314.97891641, 3400.83784998,\n",
              "       2743.94036663, 2771.3797703 , 2799.093568  , 2827.08450368,\n",
              "       2855.35534872, 2883.90890221, 2912.74799123, 2941.87547114,\n",
              "       2971.29422585, 3001.00716811, 3031.01723979, 3061.32741219,\n",
              "       3091.94068631, 3122.86009317, 3154.08869411, 3185.62958105,\n",
              "       3217.48587686, 3249.66073563, 1619.35422323, 1635.54776546,\n",
              "       1651.90324311, 1668.42227554, 1685.1064983 , 1701.95756328,\n",
              "       1718.97713891, 1736.1669103 , 1753.52857941, 1771.0638652 ,\n",
              "       1788.77450385, 1806.66224889, 1250.21913   , 1262.7213213 ,\n",
              "       1275.34853451, 1288.10201986, 1300.98304006, 1313.99287046,\n",
              "       1327.13279916, 1340.40412715, 1353.80816843, 1367.34625011,\n",
              "       1381.01971261, 1394.82990974, 1408.77820883, 1422.86599092,\n",
              "       1437.09465083, 1451.46559734, 1465.98025331, 1480.64005585,\n",
              "       1495.4464564 , 1510.40092097])"
            ]
          },
          "metadata": {},
          "execution_count": 9
        }
      ]
    },
    {
      "cell_type": "code",
      "source": [
        "eixoY"
      ],
      "metadata": {
        "colab": {
          "base_uri": "https://localhost:8080/"
        },
        "id": "1wu8oWLD1qgS",
        "outputId": "9a6aa452-2466-4918-bdaa-d52bea205f14"
      },
      "execution_count": 10,
      "outputs": [
        {
          "output_type": "execute_result",
          "data": {
            "text/plain": [
              "array([2900.124323  , 2929.12556623, 2958.41682189, 2988.00099011,\n",
              "       3017.88100001, 3031.05981001, 3078.54040811, 3109.32581219,\n",
              "       3140.41907032, 3171.82326102, 3203.54149363, 3235.57690857,\n",
              "       3267.93267765, 3300.61200443, 3333.61812447, 3366.95430572,\n",
              "       3400.62384877, 3434.63008726, 3434.63008726, 3434.63008726,\n",
              "       3434.63008726, 3574.08984167, 3609.83074009, 3645.92904749,\n",
              "       3682.38833796, 3719.21222134, 3756.40434356, 3793.96838699,\n",
              "       3831.90807086, 3870.22715157, 3870.22715157, 3870.22715157,\n",
              "       3870.22715157, 4027.37389354, 4067.64763247, 4108.3241088 ,\n",
              "       4149.40734988, 4190.90142338, 4232.81043762, 4275.13854199,\n",
              "       4317.88992741, 4361.06882669, 4404.67951495, 4448.7263101 ,\n",
              "       4493.2135732 , 4538.14570894, 4583.52716602, 4629.36243768,\n",
              "       4675.65606206, 4722.41262268, 4769.63674891, 4817.3331164 ,\n",
              "       4865.50644756, 4914.16151204, 4963.30312716, 5012.93615843,\n",
              "       5063.06552001, 5113.69617521, 5164.83313697, 5216.48146834,\n",
              "       5268.64628302, 5321.33274585, 5374.54607331, 5416.29153404,\n",
              "       5482.57444938, 5537.40019388, 5592.77419581, 5648.70193777,\n",
              "       5705.18895715, 5762.24084672, 5819.86325519, 5878.06188774,\n",
              "       5936.84250662, 5996.21093168, 6056.173041  , 6116.73477141,\n",
              "       6177.90211913, 6239.68114032, 6302.07795172, 6365.09873124,\n",
              "       6428.74971855, 6480.03721573, 6557.96758789, 6623.54726377,\n",
              "       6689.78273641, 6756.68056377, 6824.24736941, 6892.4898431 ,\n",
              "       6961.41474154, 7031.02888895, 7110.33917784, 7172.35256962,\n",
              "       7208.21433247, 7244.07609532, 7221.93785816, 7315.79962101,\n",
              "       7351.66138386, 7387.52314671, 7423.38490956, 7500.23423386,\n",
              "       6365.09873124, 6428.74971855, 6480.03721573, 6557.96758789,\n",
              "       6623.54726377, 6689.78273641, 6756.68056377, 6824.24736941,\n",
              "       6892.4898431 , 6961.41474154, 7031.02888895, 7110.33917784,\n",
              "       7172.35256962, 7208.21433247, 7244.07609532, 7221.93785816,\n",
              "       7315.79962101, 7351.66138386, 3756.40434356, 3793.96838699,\n",
              "       3831.90807086, 3870.22715157, 3870.22715157, 3870.22715157,\n",
              "       3870.22715157, 4027.37389354, 4067.64763247, 4108.3241088 ,\n",
              "       4149.40734988, 4190.90142338, 2900.124323  , 2929.12556623,\n",
              "       2958.41682189, 2988.00099011, 3017.88100001, 3031.05981001,\n",
              "       3078.54040811, 3109.32581219, 3140.41907032, 3171.82326102,\n",
              "       3203.54149363, 3235.57690857, 3267.93267765, 3300.61200443,\n",
              "       3333.61812447, 3366.95430572, 3400.62384877, 3434.63008726,\n",
              "       3434.63008726, 3434.63008726])"
            ]
          },
          "metadata": {},
          "execution_count": 10
        }
      ]
    },
    {
      "cell_type": "code",
      "source": [
        "plt.figure(figsize=(10,5))\n",
        "plt.scatter(eixoX, eixoY)\n",
        "plt.title('Gráfico do Salário x Limite')\n",
        "plt.xlabel('Salário')\n",
        "plt.ylabel('Limite');"
      ],
      "metadata": {
        "colab": {
          "base_uri": "https://localhost:8080/",
          "height": 350
        },
        "id": "_KElWF6M1tzM",
        "outputId": "6225cd9a-c95b-482f-eeb6-5f566706fba0"
      },
      "execution_count": 11,
      "outputs": [
        {
          "output_type": "display_data",
          "data": {
            "text/plain": [
              "<Figure size 720x360 with 1 Axes>"
            ],
            "image/png": "[encoded data removed]"
          },
          "metadata": {
            "needs_background": "light"
          }
        }
      ]
    },
    {
      "cell_type": "code",
      "source": [
        "plt.figure(figsize=(10, 5))\n",
        "sns.heatmap(baseDados.isnull());"
      ],
      "metadata": {
        "colab": {
          "base_uri": "https://localhost:8080/",
          "height": 324
        },
        "id": "er-XUEUu2Fca",
        "outputId": "2d040b45-4345-4048-9c56-a38a800c5d8b"
      },
      "execution_count": 12,
      "outputs": [
        {
          "output_type": "display_data",
          "data": {
            "text/plain": [
              "<Figure size 720x360 with 2 Axes>"
            ],
            "image/png": "[encoded data removed]"
          },
          "metadata": {
            "needs_background": "light"
          }
        }
      ]
    },
    {
      "cell_type": "code",
      "source": [
        "sns.pairplot(baseDados);"
      ],
      "metadata": {
        "colab": {
          "base_uri": "https://localhost:8080/",
          "height": 374
        },
        "id": "wL55CyOu3TQb",
        "outputId": "3ad9c72a-c409-40c6-81c0-3a935f1a6df5"
      },
      "execution_count": 13,
      "outputs": [
        {
          "output_type": "display_data",
          "data": {
            "text/plain": [
              "<Figure size 360x360 with 6 Axes>"
            ],
            "image/png": "[encoded data removed]"
          },
          "metadata": {
            "needs_background": "light"
          }
        }
      ]
    },
    {
      "cell_type": "code",
      "source": [
        "correlacao = np.corrcoef( eixoX, eixoY)\n",
        "correlacao"
      ],
      "metadata": {
        "colab": {
          "base_uri": "https://localhost:8080/"
        },
        "id": "deeSAkA8HzNg",
        "outputId": "0dbf1253-3a57-417b-9c57-1fabd9e25afb"
      },
      "execution_count": 14,
      "outputs": [
        {
          "output_type": "execute_result",
          "data": {
            "text/plain": [
              "array([[1.        , 0.99940698],\n",
              "       [0.99940698, 1.        ]])"
            ]
          },
          "metadata": {},
          "execution_count": 14
        }
      ]
    },
    {
      "cell_type": "code",
      "source": [
        "plt.figure( figsize=(10,5) )\n",
        "sns.heatmap(correlacao, annot=True);"
      ],
      "metadata": {
        "colab": {
          "base_uri": "https://localhost:8080/",
          "height": 324
        },
        "id": "z577yWOKIRD4",
        "outputId": "81dbdc85-647b-4b98-b938-07f3117e65d7"
      },
      "execution_count": 15,
      "outputs": [
        {
          "output_type": "display_data",
          "data": {
            "text/plain": [
              "<Figure size 720x360 with 2 Axes>"
            ],
            "image/png": "[encoded data removed]"
          },
          "metadata": {
            "needs_background": "light"
          }
        }
      ]
    },
    {
      "cell_type": "code",
      "source": [
        "eixoX = eixoX.reshape(-1, 1)\n",
        "eixoY = eixoY.reshape(-1, 1)"
      ],
      "metadata": {
        "id": "Mx5fxiXaNnGZ"
      },
      "execution_count": 16,
      "outputs": []
    },
    {
      "cell_type": "code",
      "source": [
        "from sklearn.model_selection import train_test_split\n",
        "    \n",
        "xTreinamento, xTeste, yTreinamento, yTeste = train_test_split(\n",
        "        eixoX,\n",
        "        eixoY,\n",
        "        test_size=0.2\n",
        ")"
      ],
      "metadata": {
        "id": "fkzw52wdOTeC"
      },
      "execution_count": 17,
      "outputs": []
    },
    {
      "cell_type": "code",
      "source": [
        "print( len( xTreinamento ), len( xTeste ))"
      ],
      "metadata": {
        "colab": {
          "base_uri": "https://localhost:8080/"
        },
        "id": "_Zi3kT0gSz5n",
        "outputId": "6a1d83fe-2368-480f-9728-8605de5a1d8d"
      },
      "execution_count": 18,
      "outputs": [
        {
          "output_type": "stream",
          "name": "stdout",
          "text": [
            "120 30\n"
          ]
        }
      ]
    },
    {
      "cell_type": "code",
      "source": [
        "from sklearn.linear_model import LinearRegression\n",
        "\n",
        "funcaoRegressao = LinearRegression()\n",
        "\n",
        "funcaoRegressao.fit(xTreinamento, yTreinamento)"
      ],
      "metadata": {
        "colab": {
          "base_uri": "https://localhost:8080/"
        },
        "id": "smDPQ8rwS93k",
        "outputId": "0ea395dd-e142-4936-d6e0-03e49809cf83"
      },
      "execution_count": 19,
      "outputs": [
        {
          "output_type": "execute_result",
          "data": {
            "text/plain": [
              "LinearRegression()"
            ]
          },
          "metadata": {},
          "execution_count": 19
        }
      ]
    },
    {
      "cell_type": "code",
      "source": [
        "funcaoRegressao.score( xTreinamento, yTreinamento)"
      ],
      "metadata": {
        "colab": {
          "base_uri": "https://localhost:8080/"
        },
        "id": "pNcPt64NjZcf",
        "outputId": "585451bb-f583-4e4a-dfb1-7384a0fd2491"
      },
      "execution_count": 20,
      "outputs": [
        {
          "output_type": "execute_result",
          "data": {
            "text/plain": [
              "0.9986857955656799"
            ]
          },
          "metadata": {},
          "execution_count": 20
        }
      ]
    },
    {
      "cell_type": "code",
      "source": [
        "plt.figure( figsize=(10,  5) )\n",
        "plt.scatter(xTreinamento, yTreinamento)\n",
        "plt.plot( xTeste, funcaoRegressao.predict(xTeste), color='red');"
      ],
      "metadata": {
        "colab": {
          "base_uri": "https://localhost:8080/",
          "height": 320
        },
        "id": "SPGoJu6FjosG",
        "outputId": "c13cac98-45c9-4822-d408-d97dd484adf3"
      },
      "execution_count": 21,
      "outputs": [
        {
          "output_type": "display_data",
          "data": {
            "text/plain": [
              "<Figure size 720x360 with 1 Axes>"
            ],
            "image/png": "[encoded data removed]"
          },
          "metadata": {
            "needs_background": "light"
          }
        }
      ]
    },
    {
      "cell_type": "code",
      "source": [
        "previsoes = funcaoRegressao.predict(xTeste)\n",
        "\n",
        "from sklearn import metrics\n",
        "print('RMSE', np.sqrt(metrics.mean_squared_error(yTeste, previsoes)))"
      ],
      "metadata": {
        "colab": {
          "base_uri": "https://localhost:8080/"
        },
        "id": "AaZlhjmDkMVP",
        "outputId": "94dbe504-0544-40ea-ac29-bed88fce1091"
      },
      "execution_count": 22,
      "outputs": [
        {
          "output_type": "stream",
          "name": "stdout",
          "text": [
            "RMSE 37.7443597971073\n"
          ]
        }
      ]
    },
    {
      "cell_type": "code",
      "source": [
        "print( funcaoRegressao.predict([[1200]]))"
      ],
      "metadata": {
        "colab": {
          "base_uri": "https://localhost:8080/"
        },
        "id": "u0vh_HJglXXW",
        "outputId": "6862fec7-8231-4f10-e438-2759bb69a28b"
      },
      "execution_count": 23,
      "outputs": [
        {
          "output_type": "stream",
          "name": "stdout",
          "text": [
            "[[2797.27378788]]\n"
          ]
        }
      ]
    }
  ]
}